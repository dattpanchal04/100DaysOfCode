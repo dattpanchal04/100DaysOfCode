{
 "cells": [
  {
   "cell_type": "markdown",
   "id": "0ebcb3b6",
   "metadata": {},
   "source": [
    "**Welcome to NumPy! The offical website or documentation of numpy is docs.scipy.org"
   ]
  },
  {
   "cell_type": "code",
   "execution_count": null,
   "id": "38be2356",
   "metadata": {},
   "outputs": [],
   "source": [
    "import numpy as np"
   ]
  },
  {
   "cell_type": "markdown",
   "id": "0c8864e3",
   "metadata": {},
   "source": [
    "Creating a NumPy array ( Two dimentional ) and apply 8 bit data!"
   ]
  },
  {
   "cell_type": "code",
   "execution_count": null,
   "id": "ee3fa8cc",
   "metadata": {},
   "outputs": [],
   "source": [
    "myArr = np.array([[1,2,3,4,5]], np.int8)"
   ]
  },
  {
   "cell_type": "code",
   "execution_count": null,
   "id": "da2bacec",
   "metadata": {},
   "outputs": [],
   "source": [
    "myArr"
   ]
  },
  {
   "cell_type": "code",
   "execution_count": null,
   "id": "5ec9872d",
   "metadata": {},
   "outputs": [],
   "source": [
    "myArr[0, 1] # Get array elements"
   ]
  },
  {
   "cell_type": "code",
   "execution_count": null,
   "id": "07e476e4",
   "metadata": {},
   "outputs": [],
   "source": [
    "myArr.shape # Get the information of the array"
   ]
  },
  {
   "cell_type": "code",
   "execution_count": null,
   "id": "634639ab",
   "metadata": {},
   "outputs": [],
   "source": [
    "myArr.dtype # Get the data type of array"
   ]
  },
  {
   "cell_type": "code",
   "execution_count": null,
   "id": "501692f1",
   "metadata": {},
   "outputs": [],
   "source": [
    "myArr[0, 1] = 6  #Change the array element at second postion"
   ]
  },
  {
   "cell_type": "code",
   "execution_count": null,
   "id": "085d16ff",
   "metadata": {},
   "outputs": [],
   "source": [
    "myArr"
   ]
  },
  {
   "cell_type": "markdown",
   "id": "b8b3157b",
   "metadata": {},
   "source": [
    "**Array creation : Conversion from other python structures"
   ]
  },
  {
   "cell_type": "code",
   "execution_count": null,
   "id": "5768b727",
   "metadata": {},
   "outputs": [],
   "source": [
    "list_arr = np.array([[1,2,3], [4,5,6], [7,8,9]])"
   ]
  },
  {
   "cell_type": "code",
   "execution_count": null,
   "id": "b25e3162",
   "metadata": {},
   "outputs": [],
   "source": [
    "list_arr"
   ]
  },
  {
   "cell_type": "code",
   "execution_count": null,
   "id": "01734fe1",
   "metadata": {},
   "outputs": [],
   "source": [
    "list_arr.shape"
   ]
  },
  {
   "cell_type": "code",
   "execution_count": null,
   "id": "4f4b6aaf",
   "metadata": {},
   "outputs": [],
   "source": [
    "list_arr.dtype"
   ]
  },
  {
   "cell_type": "code",
   "execution_count": null,
   "id": "e13692ae",
   "metadata": {},
   "outputs": [],
   "source": [
    "list_arr.size"
   ]
  },
  {
   "cell_type": "code",
   "execution_count": null,
   "id": "faaae5c1",
   "metadata": {},
   "outputs": [],
   "source": [
    "np.array({1,2,3})  # Object is not efficient for data analysis"
   ]
  },
  {
   "cell_type": "code",
   "execution_count": null,
   "id": "97e4807d",
   "metadata": {},
   "outputs": [],
   "source": [
    "making_zerosArr = np.zeros((2,5))"
   ]
  },
  {
   "cell_type": "code",
   "execution_count": null,
   "id": "75675b57",
   "metadata": {},
   "outputs": [],
   "source": [
    "making_zerosArr # It gives the 2 by 5 array of zeros"
   ]
  },
  {
   "cell_type": "code",
   "execution_count": null,
   "id": "2aa87e78",
   "metadata": {},
   "outputs": [],
   "source": [
    "rng = np.arange(11) # same as range() in python"
   ]
  },
  {
   "cell_type": "code",
   "execution_count": null,
   "id": "9e69b259",
   "metadata": {},
   "outputs": [],
   "source": [
    "rng"
   ]
  },
  {
   "cell_type": "code",
   "execution_count": null,
   "id": "a6d278e3",
   "metadata": {},
   "outputs": [],
   "source": [
    "lspace = np.linspace(1,5,10) # linspace gives the spacing between the numbers"
   ]
  },
  {
   "cell_type": "code",
   "execution_count": null,
   "id": "0341f621",
   "metadata": {},
   "outputs": [],
   "source": [
    "lspace"
   ]
  },
  {
   "cell_type": "code",
   "execution_count": null,
   "id": "01f80438",
   "metadata": {},
   "outputs": [],
   "source": [
    "emp = np.empty((4,2))  # It gives the random 4 by 2 array"
   ]
  },
  {
   "cell_type": "code",
   "execution_count": null,
   "id": "5e8b8c02",
   "metadata": {},
   "outputs": [],
   "source": [
    "emp"
   ]
  },
  {
   "cell_type": "code",
   "execution_count": null,
   "id": "cd96ac5d",
   "metadata": {},
   "outputs": [],
   "source": [
    "emp_like = np.empty_like(lspace) # empty_like"
   ]
  },
  {
   "cell_type": "code",
   "execution_count": null,
   "id": "666cdef5",
   "metadata": {},
   "outputs": [],
   "source": [
    "emp_like"
   ]
  },
  {
   "cell_type": "code",
   "execution_count": null,
   "id": "6b8c2d12",
   "metadata": {},
   "outputs": [],
   "source": [
    "ide = np.identity(40) # It gives the 40 by 40 matrix"
   ]
  },
  {
   "cell_type": "code",
   "execution_count": null,
   "id": "bdfa5e90",
   "metadata": {},
   "outputs": [],
   "source": [
    "ide"
   ]
  },
  {
   "cell_type": "code",
   "execution_count": null,
   "id": "de98a75e",
   "metadata": {},
   "outputs": [],
   "source": [
    "ide.shape"
   ]
  },
  {
   "cell_type": "code",
   "execution_count": null,
   "id": "72bbc60e",
   "metadata": {},
   "outputs": [],
   "source": [
    "arangeNow = np.arange(99)"
   ]
  },
  {
   "cell_type": "code",
   "execution_count": null,
   "id": "d2416621",
   "metadata": {},
   "outputs": [],
   "source": [
    "arangeNow"
   ]
  },
  {
   "cell_type": "code",
   "execution_count": null,
   "id": "43ad73e7",
   "metadata": {},
   "outputs": [],
   "source": [
    "arangeNow.reshape(3, 33)  # ( 33*3 = 99 ) The sum of two number which we assign to reshape function is same as value which we given in arange() function which is 99"
   ]
  },
  {
   "cell_type": "code",
   "execution_count": null,
   "id": "cd97a06b",
   "metadata": {},
   "outputs": [],
   "source": [
    "arangeNow.ravel()  # Doing the array in perfact shape ( In one dimentional shape )"
   ]
  },
  {
   "cell_type": "code",
   "execution_count": null,
   "id": "4900c0b1",
   "metadata": {},
   "outputs": [],
   "source": [
    "arangeNow.shape"
   ]
  },
  {
   "cell_type": "markdown",
   "id": "0319f385",
   "metadata": {},
   "source": [
    "**NUMPY AXIS : \n",
    "axis 0 means it is the x axis in form of cratezian graph and\n",
    "axis 1 means it is the y axis in form of cartezian graph"
   ]
  },
  {
   "cell_type": "code",
   "execution_count": null,
   "id": "6d051bc4",
   "metadata": {},
   "outputs": [],
   "source": [
    "x = [[1,2,3], [4,5,6], [7,8,9]]"
   ]
  },
  {
   "cell_type": "code",
   "execution_count": null,
   "id": "5be3e662",
   "metadata": {},
   "outputs": [],
   "source": [
    "print(x)"
   ]
  },
  {
   "cell_type": "code",
   "execution_count": null,
   "id": "4d4b3a47",
   "metadata": {},
   "outputs": [],
   "source": [
    "arr = np.array(x)"
   ]
  },
  {
   "cell_type": "code",
   "execution_count": null,
   "id": "fde7e202",
   "metadata": {},
   "outputs": [],
   "source": [
    "arr"
   ]
  },
  {
   "cell_type": "code",
   "execution_count": null,
   "id": "ba2b849a",
   "metadata": {},
   "outputs": [],
   "source": [
    "arr.sum(axis=0) # 1+4+7 = 12, 2+5+8 = 15, 3+6+9 = 18"
   ]
  },
  {
   "cell_type": "code",
   "execution_count": null,
   "id": "f7363933",
   "metadata": {},
   "outputs": [],
   "source": [
    "arr.sum(axis=1) # 1+2+3 = 6, 4+5+6 = 15, 7+8+9 = 24"
   ]
  },
  {
   "cell_type": "code",
   "execution_count": null,
   "id": "51c1494e",
   "metadata": {},
   "outputs": [],
   "source": [
    "arr.T # It transform the row and column. row becomes a column and column becomes a row"
   ]
  },
  {
   "cell_type": "code",
   "execution_count": null,
   "id": "6ecc047e",
   "metadata": {},
   "outputs": [],
   "source": [
    "arr.sum(axis=0)"
   ]
  },
  {
   "cell_type": "code",
   "execution_count": null,
   "id": "5e715a09",
   "metadata": {},
   "outputs": [],
   "source": [
    "arr.sum(axis=1)"
   ]
  },
  {
   "cell_type": "code",
   "execution_count": null,
   "id": "7414a0a0",
   "metadata": {},
   "outputs": [],
   "source": [
    "arr.flat  # It returns all the elemens of array ( Iterate using for loop )"
   ]
  },
  {
   "cell_type": "code",
   "execution_count": null,
   "id": "c8b1f6fe",
   "metadata": {},
   "outputs": [],
   "source": [
    "for i in arr.flat:\n",
    "    print(i)a"
   ]
  },
  {
   "cell_type": "code",
   "execution_count": null,
   "id": "fe633796",
   "metadata": {},
   "outputs": [],
   "source": [
    "arr.ndim # It returns number of dimentions ( here is 2 in arr )"
   ]
  },
  {
   "cell_type": "code",
   "execution_count": null,
   "id": "f552224f",
   "metadata": {},
   "outputs": [],
   "source": [
    "arr.size"
   ]
  },
  {
   "cell_type": "code",
   "execution_count": null,
   "id": "bacb3b0d",
   "metadata": {},
   "outputs": [],
   "source": [
    "arr.shape"
   ]
  },
  {
   "cell_type": "code",
   "execution_count": null,
   "id": "3832b488",
   "metadata": {},
   "outputs": [],
   "source": [
    "arr.nbytes # It returns that how much array consumes the space in memory"
   ]
  },
  {
   "cell_type": "code",
   "execution_count": null,
   "id": "b92172c4",
   "metadata": {},
   "outputs": [],
   "source": [
    "secondarr = np.array([35,64,644,353,24])"
   ]
  },
  {
   "cell_type": "code",
   "execution_count": null,
   "id": "d68e15e1",
   "metadata": {},
   "outputs": [],
   "source": [
    "secondarr.argmax()  # It is a method, it run as a function. This function return the index of your maximum number of array ( Here max. no. is 5, so it returns 4th index )"
   ]
  },
  {
   "cell_type": "code",
   "execution_count": null,
   "id": "36fc3dc2",
   "metadata": {},
   "outputs": [],
   "source": [
    "secondarr.argmin() #This function return the index of your minimum number of array ( Here min. no. is 0, so it returns 0 index )"
   ]
  },
  {
   "cell_type": "code",
   "execution_count": null,
   "id": "0988378b",
   "metadata": {},
   "outputs": [],
   "source": [
    "secondarr.argsort() # It return a indexes which sorts your array."
   ]
  },
  {
   "cell_type": "markdown",
   "id": "13828b2c",
   "metadata": {},
   "source": [
    "** Same as in two dimetional array. You can apply this all the attributes and methods on two dimetional array!"
   ]
  },
  {
   "cell_type": "markdown",
   "id": "45ef0c87",
   "metadata": {},
   "source": [
    "** Some Mathematical Operations using NumPy"
   ]
  },
  {
   "cell_type": "code",
   "execution_count": null,
   "id": "7c5e353d",
   "metadata": {},
   "outputs": [],
   "source": [
    "arr1 = np.array([[4,6,6], [2,5,6], [1,9,7]])"
   ]
  },
  {
   "cell_type": "code",
   "execution_count": null,
   "id": "69bd2c33",
   "metadata": {},
   "outputs": [],
   "source": [
    "arr2 = np.array([[3,6,4], [2,6,7], [9,3,1]])"
   ]
  },
  {
   "cell_type": "code",
   "execution_count": null,
   "id": "c1dfcdc7",
   "metadata": {},
   "outputs": [],
   "source": [
    "arr1 + arr2  # Add two matrix"
   ]
  },
  {
   "cell_type": "code",
   "execution_count": null,
   "id": "68f29670",
   "metadata": {},
   "outputs": [],
   "source": [
    "arr1 * arr2 # Multiply two matrix"
   ]
  },
  {
   "cell_type": "code",
   "execution_count": null,
   "id": "1798a1ca",
   "metadata": {},
   "outputs": [],
   "source": [
    "np.sqrt(arr1)  # find square root of arr1"
   ]
  },
  {
   "cell_type": "code",
   "execution_count": null,
   "id": "5e60f7bf",
   "metadata": {},
   "outputs": [],
   "source": [
    "np.sqrt(arr2) # find square root of arr2"
   ]
  },
  {
   "cell_type": "code",
   "execution_count": null,
   "id": "d9eeb948",
   "metadata": {},
   "outputs": [],
   "source": [
    "arr1.sum() "
   ]
  },
  {
   "cell_type": "code",
   "execution_count": null,
   "id": "70697fc2",
   "metadata": {},
   "outputs": [],
   "source": [
    "arr2.sum()"
   ]
  },
  {
   "cell_type": "code",
   "execution_count": null,
   "id": "477b74d3",
   "metadata": {},
   "outputs": [],
   "source": [
    "arr1"
   ]
  },
  {
   "cell_type": "code",
   "execution_count": null,
   "id": "8d806a7c",
   "metadata": {},
   "outputs": [],
   "source": [
    "np.where(arr1 > 5)  # Putting condition"
   ]
  },
  {
   "cell_type": "code",
   "execution_count": null,
   "id": "43b1850e",
   "metadata": {},
   "outputs": [],
   "source": [
    "arr2"
   ]
  },
  {
   "cell_type": "code",
   "execution_count": null,
   "id": "6766951a",
   "metadata": {},
   "outputs": [],
   "source": [
    "np.where(arr2 > 2)"
   ]
  },
  {
   "cell_type": "code",
   "execution_count": null,
   "id": "dd39bb49",
   "metadata": {},
   "outputs": [],
   "source": [
    "type(np.where(arr1 > 2))"
   ]
  },
  {
   "cell_type": "code",
   "execution_count": null,
   "id": "eb2d6892",
   "metadata": {},
   "outputs": [],
   "source": [
    "type(np.where(arr2 > 2))"
   ]
  },
  {
   "cell_type": "code",
   "execution_count": null,
   "id": "56e9760a",
   "metadata": {},
   "outputs": [],
   "source": [
    "arr1"
   ]
  },
  {
   "cell_type": "code",
   "execution_count": null,
   "id": "ab7206e4",
   "metadata": {},
   "outputs": [],
   "source": [
    "np.count_nonzero(arr1)  # It returns a non zeros values "
   ]
  },
  {
   "cell_type": "code",
   "execution_count": null,
   "id": "4dd81504",
   "metadata": {},
   "outputs": [],
   "source": [
    "np.nonzero(arr1)"
   ]
  },
  {
   "cell_type": "code",
   "execution_count": null,
   "id": "ea239fa0",
   "metadata": {},
   "outputs": [],
   "source": [
    "import sys"
   ]
  },
  {
   "cell_type": "code",
   "execution_count": null,
   "id": "ced76305",
   "metadata": {},
   "outputs": [],
   "source": [
    "py_arr = [1,2,3,4,5]"
   ]
  },
  {
   "cell_type": "code",
   "execution_count": null,
   "id": "f2016383",
   "metadata": {},
   "outputs": [],
   "source": [
    "np_arr = np.array(py_arr)"
   ]
  },
  {
   "cell_type": "code",
   "execution_count": null,
   "id": "24867fc0",
   "metadata": {},
   "outputs": [],
   "source": [
    "sys.getsizeof(1) * len(py_arr)  # It takes 140 bytes if you using python array"
   ]
  },
  {
   "cell_type": "code",
   "execution_count": null,
   "id": "826d1a5a",
   "metadata": {},
   "outputs": [],
   "source": [
    "np_arr.itemsize * np_arr.size # It takes 20 bytes if you using numpy array"
   ]
  },
  {
   "cell_type": "code",
   "execution_count": null,
   "id": "7390d594",
   "metadata": {},
   "outputs": [],
   "source": [
    "np_arr"
   ]
  },
  {
   "cell_type": "code",
   "execution_count": null,
   "id": "6f8d55c0",
   "metadata": {},
   "outputs": [],
   "source": [
    "np_arr.tolist() # Convert array into list"
   ]
  }
 ],
 "metadata": {
  "kernelspec": {
   "display_name": "Python 3 (ipykernel)",
   "language": "python",
   "name": "python3"
  },
  "language_info": {
   "codemirror_mode": {
    "name": "ipython",
    "version": 3
   },
   "file_extension": ".py",
   "mimetype": "text/x-python",
   "name": "python",
   "nbconvert_exporter": "python",
   "pygments_lexer": "ipython3",
   "version": "3.9.5"
  }
 },
 "nbformat": 4,
 "nbformat_minor": 5
}
