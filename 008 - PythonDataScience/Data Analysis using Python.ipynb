{
 "cells": [
  {
   "cell_type": "code",
   "execution_count": 1,
   "id": "811780ce",
   "metadata": {},
   "outputs": [
    {
     "name": "stdout",
     "output_type": "stream",
     "text": [
      " Volume in drive C is Windows\n",
      " Volume Serial Number is 7C9B-5B45\n",
      "\n",
      " Directory of C:\\Users\\HP\\PycharmProjects\\100DaysOfCode_Challenge\\Day7 - PythonDataScience\n",
      "\n",
      "22-05-2022  15:55    <DIR>          .\n",
      "22-05-2022  15:55    <DIR>          ..\n",
      "22-05-2022  11:46    <DIR>          .ipynb_checkpoints\n",
      "22-05-2022  15:55            40,805 Data Analysis using Python.ipynb\n",
      "22-05-2022  15:07           199,209 dataSample.csv\n",
      "22-05-2022  15:48                48 export.csv\n",
      "               3 File(s)        240,062 bytes\n",
      "               3 Dir(s)  419,406,262,272 bytes free\n"
     ]
    }
   ],
   "source": [
    "%ls"
   ]
  },
  {
   "cell_type": "code",
   "execution_count": 2,
   "id": "9b60a655",
   "metadata": {},
   "outputs": [
    {
     "data": {
      "text/html": [
       "<h5>Hi, dear!</h5>\n"
      ],
      "text/plain": [
       "<IPython.core.display.HTML object>"
      ]
     },
     "metadata": {},
     "output_type": "display_data"
    }
   ],
   "source": [
    "%%html\n",
    "<h5>Hi, dear!</h5>"
   ]
  },
  {
   "cell_type": "markdown",
   "id": "19ad93b8",
   "metadata": {},
   "source": [
    "NumPy Array"
   ]
  },
  {
   "cell_type": "code",
   "execution_count": 3,
   "id": "755c0dc0",
   "metadata": {},
   "outputs": [],
   "source": [
    "import numpy as np"
   ]
  },
  {
   "cell_type": "markdown",
   "id": "b2057382",
   "metadata": {},
   "source": [
    "Let's check the speed of the python array execution and NumPy array execution and check the speed"
   ]
  },
  {
   "cell_type": "code",
   "execution_count": 4,
   "id": "06ec96d0",
   "metadata": {},
   "outputs": [],
   "source": [
    "nparr = np.arange(500)\n",
    "# print(nparr)"
   ]
  },
  {
   "cell_type": "code",
   "execution_count": 5,
   "id": "41011293",
   "metadata": {},
   "outputs": [],
   "source": [
    "pylist = list(range(500))\n",
    "# print(pylist)"
   ]
  },
  {
   "cell_type": "markdown",
   "id": "9edf0b70",
   "metadata": {},
   "source": [
    "Python list took 321 microsecond to complete the process"
   ]
  },
  {
   "cell_type": "code",
   "execution_count": 6,
   "id": "cce2a128",
   "metadata": {
    "scrolled": true
   },
   "outputs": [
    {
     "name": "stdout",
     "output_type": "stream",
     "text": [
      "307 µs ± 29.4 µs per loop (mean ± std. dev. of 7 runs, 1,000 loops each)\n"
     ]
    }
   ],
   "source": [
    "%timeit for item in range(10): [item * 5 for item in pylist]"
   ]
  },
  {
   "cell_type": "markdown",
   "id": "c6f4a11e",
   "metadata": {},
   "source": [
    "NumPy array took only 1.79 milisecond to complete the process, it means NumPy is faster than Python.\n",
    "The most of the code of NumPy is written in C, that's the reason NumPy s Fast!"
   ]
  },
  {
   "cell_type": "code",
   "execution_count": 7,
   "id": "5a65a010",
   "metadata": {},
   "outputs": [
    {
     "name": "stdout",
     "output_type": "stream",
     "text": [
      "1.79 ms ± 104 µs per loop (mean ± std. dev. of 7 runs, 1,000 loops each)\n"
     ]
    }
   ],
   "source": [
    "%timeit for i in range(10): [i * 5 for i in nparr]"
   ]
  },
  {
   "cell_type": "markdown",
   "id": "d76ffc69",
   "metadata": {},
   "source": [
    "Making numpy array"
   ]
  },
  {
   "cell_type": "code",
   "execution_count": 8,
   "id": "b453c576",
   "metadata": {},
   "outputs": [],
   "source": [
    "arr = np.array([1,2,3])"
   ]
  },
  {
   "cell_type": "code",
   "execution_count": 9,
   "id": "42e2e079",
   "metadata": {},
   "outputs": [
    {
     "data": {
      "text/plain": [
       "array([1, 2, 3])"
      ]
     },
     "execution_count": 9,
     "metadata": {},
     "output_type": "execute_result"
    }
   ],
   "source": [
    "arr"
   ]
  },
  {
   "cell_type": "markdown",
   "id": "073a49b8",
   "metadata": {},
   "source": [
    "We already code all the function of NumPy in Day 6, checkout on GitHub! Let's move on!"
   ]
  },
  {
   "cell_type": "markdown",
   "id": "b69e0ac4",
   "metadata": {},
   "source": [
    "Pandas : Using Pandas module we can easily analize our big data. Pandas create a dataframe and then it is store in RAM. And it is fast to read the data from the RAM instead of disc. Because of this it is very fast. Using pandas we can read a CSV. "
   ]
  },
  {
   "cell_type": "code",
   "execution_count": 10,
   "id": "a43513b6",
   "metadata": {},
   "outputs": [],
   "source": [
    "import pandas as pd"
   ]
  },
  {
   "cell_type": "code",
   "execution_count": 11,
   "id": "9c323455",
   "metadata": {},
   "outputs": [
    {
     "name": "stdout",
     "output_type": "stream",
     "text": [
      "Empty DataFrame\n",
      "Columns: []\n",
      "Index: []\n"
     ]
    }
   ],
   "source": [
    "df = pd.DataFrame()  # Creating first dataframe using Pandas\n",
    "print(df)"
   ]
  },
  {
   "cell_type": "code",
   "execution_count": 12,
   "id": "f0725348",
   "metadata": {},
   "outputs": [
    {
     "data": {
      "text/html": [
       "<div>\n",
       "<style scoped>\n",
       "    .dataframe tbody tr th:only-of-type {\n",
       "        vertical-align: middle;\n",
       "    }\n",
       "\n",
       "    .dataframe tbody tr th {\n",
       "        vertical-align: top;\n",
       "    }\n",
       "\n",
       "    .dataframe thead th {\n",
       "        text-align: right;\n",
       "    }\n",
       "</style>\n",
       "<table border=\"1\" class=\"dataframe\">\n",
       "  <thead>\n",
       "    <tr style=\"text-align: right;\">\n",
       "      <th></th>\n",
       "    </tr>\n",
       "  </thead>\n",
       "  <tbody>\n",
       "  </tbody>\n",
       "</table>\n",
       "</div>"
      ],
      "text/plain": [
       "Empty DataFrame\n",
       "Columns: []\n",
       "Index: []"
      ]
     },
     "execution_count": 12,
     "metadata": {},
     "output_type": "execute_result"
    }
   ],
   "source": [
    "df"
   ]
  },
  {
   "cell_type": "markdown",
   "id": "c5b5ab27",
   "metadata": {},
   "source": [
    "Creating one more dataframe ( Not empty ) and adding columns name to dataframe"
   ]
  },
  {
   "cell_type": "code",
   "execution_count": 13,
   "id": "8606a1f2",
   "metadata": {},
   "outputs": [
    {
     "name": "stdout",
     "output_type": "stream",
     "text": [
      "    A   B   C\n",
      "0   1   2   3\n",
      "1   4   5   6\n",
      "2   7   8   9\n",
      "3  10  11  12\n",
      "4  13  14  15\n"
     ]
    }
   ],
   "source": [
    "df2 = pd.DataFrame([[1,2,3], [4,5,6], [7,8,9],[10,11,12],[13,14,15]],columns=['A', 'B', 'C'])\n",
    "print(df2)"
   ]
  },
  {
   "cell_type": "code",
   "execution_count": 14,
   "id": "95955f43",
   "metadata": {},
   "outputs": [
    {
     "data": {
      "text/html": [
       "<div>\n",
       "<style scoped>\n",
       "    .dataframe tbody tr th:only-of-type {\n",
       "        vertical-align: middle;\n",
       "    }\n",
       "\n",
       "    .dataframe tbody tr th {\n",
       "        vertical-align: top;\n",
       "    }\n",
       "\n",
       "    .dataframe thead th {\n",
       "        text-align: right;\n",
       "    }\n",
       "</style>\n",
       "<table border=\"1\" class=\"dataframe\">\n",
       "  <thead>\n",
       "    <tr style=\"text-align: right;\">\n",
       "      <th></th>\n",
       "      <th>A</th>\n",
       "      <th>B</th>\n",
       "      <th>C</th>\n",
       "    </tr>\n",
       "  </thead>\n",
       "  <tbody>\n",
       "    <tr>\n",
       "      <th>0</th>\n",
       "      <td>1</td>\n",
       "      <td>2</td>\n",
       "      <td>3</td>\n",
       "    </tr>\n",
       "    <tr>\n",
       "      <th>1</th>\n",
       "      <td>4</td>\n",
       "      <td>5</td>\n",
       "      <td>6</td>\n",
       "    </tr>\n",
       "    <tr>\n",
       "      <th>2</th>\n",
       "      <td>7</td>\n",
       "      <td>8</td>\n",
       "      <td>9</td>\n",
       "    </tr>\n",
       "    <tr>\n",
       "      <th>3</th>\n",
       "      <td>10</td>\n",
       "      <td>11</td>\n",
       "      <td>12</td>\n",
       "    </tr>\n",
       "    <tr>\n",
       "      <th>4</th>\n",
       "      <td>13</td>\n",
       "      <td>14</td>\n",
       "      <td>15</td>\n",
       "    </tr>\n",
       "  </tbody>\n",
       "</table>\n",
       "</div>"
      ],
      "text/plain": [
       "    A   B   C\n",
       "0   1   2   3\n",
       "1   4   5   6\n",
       "2   7   8   9\n",
       "3  10  11  12\n",
       "4  13  14  15"
      ]
     },
     "execution_count": 14,
     "metadata": {},
     "output_type": "execute_result"
    }
   ],
   "source": [
    "df2"
   ]
  },
  {
   "cell_type": "code",
   "execution_count": 15,
   "id": "7acd8742",
   "metadata": {},
   "outputs": [
    {
     "data": {
      "text/html": [
       "<div>\n",
       "<style scoped>\n",
       "    .dataframe tbody tr th:only-of-type {\n",
       "        vertical-align: middle;\n",
       "    }\n",
       "\n",
       "    .dataframe tbody tr th {\n",
       "        vertical-align: top;\n",
       "    }\n",
       "\n",
       "    .dataframe thead th {\n",
       "        text-align: right;\n",
       "    }\n",
       "</style>\n",
       "<table border=\"1\" class=\"dataframe\">\n",
       "  <thead>\n",
       "    <tr style=\"text-align: right;\">\n",
       "      <th></th>\n",
       "      <th>A</th>\n",
       "      <th>B</th>\n",
       "      <th>C</th>\n",
       "    </tr>\n",
       "  </thead>\n",
       "  <tbody>\n",
       "    <tr>\n",
       "      <th>0</th>\n",
       "      <td>1</td>\n",
       "      <td>2</td>\n",
       "      <td>3</td>\n",
       "    </tr>\n",
       "    <tr>\n",
       "      <th>1</th>\n",
       "      <td>4</td>\n",
       "      <td>5</td>\n",
       "      <td>6</td>\n",
       "    </tr>\n",
       "    <tr>\n",
       "      <th>2</th>\n",
       "      <td>7</td>\n",
       "      <td>8</td>\n",
       "      <td>9</td>\n",
       "    </tr>\n",
       "  </tbody>\n",
       "</table>\n",
       "</div>"
      ],
      "text/plain": [
       "   A  B  C\n",
       "0  1  2  3\n",
       "1  4  5  6\n",
       "2  7  8  9"
      ]
     },
     "execution_count": 15,
     "metadata": {},
     "output_type": "execute_result"
    }
   ],
   "source": [
    "df2.head(3)  # head() returns returns arguments from upper side"
   ]
  },
  {
   "cell_type": "code",
   "execution_count": 16,
   "id": "be6dfdaf",
   "metadata": {},
   "outputs": [
    {
     "data": {
      "text/html": [
       "<div>\n",
       "<style scoped>\n",
       "    .dataframe tbody tr th:only-of-type {\n",
       "        vertical-align: middle;\n",
       "    }\n",
       "\n",
       "    .dataframe tbody tr th {\n",
       "        vertical-align: top;\n",
       "    }\n",
       "\n",
       "    .dataframe thead th {\n",
       "        text-align: right;\n",
       "    }\n",
       "</style>\n",
       "<table border=\"1\" class=\"dataframe\">\n",
       "  <thead>\n",
       "    <tr style=\"text-align: right;\">\n",
       "      <th></th>\n",
       "      <th>A</th>\n",
       "      <th>B</th>\n",
       "      <th>C</th>\n",
       "    </tr>\n",
       "  </thead>\n",
       "  <tbody>\n",
       "    <tr>\n",
       "      <th>3</th>\n",
       "      <td>10</td>\n",
       "      <td>11</td>\n",
       "      <td>12</td>\n",
       "    </tr>\n",
       "    <tr>\n",
       "      <th>4</th>\n",
       "      <td>13</td>\n",
       "      <td>14</td>\n",
       "      <td>15</td>\n",
       "    </tr>\n",
       "  </tbody>\n",
       "</table>\n",
       "</div>"
      ],
      "text/plain": [
       "    A   B   C\n",
       "3  10  11  12\n",
       "4  13  14  15"
      ]
     },
     "execution_count": 16,
     "metadata": {},
     "output_type": "execute_result"
    }
   ],
   "source": [
    "df2.tail(2)  # tail() returns arguments from bottom side"
   ]
  },
  {
   "cell_type": "code",
   "execution_count": 17,
   "id": "dcbd3c8c",
   "metadata": {},
   "outputs": [
    {
     "data": {
      "text/plain": [
       "(5, 3)"
      ]
     },
     "execution_count": 17,
     "metadata": {},
     "output_type": "execute_result"
    }
   ],
   "source": [
    "df2.shape # check information of dataframe. It has 5 rows and 3 columns"
   ]
  },
  {
   "cell_type": "code",
   "execution_count": 18,
   "id": "dfb50138",
   "metadata": {},
   "outputs": [
    {
     "data": {
      "text/plain": [
       "2"
      ]
     },
     "execution_count": 18,
     "metadata": {},
     "output_type": "execute_result"
    }
   ],
   "source": [
    "df2.iloc[0, 1] # slicing of dataframe"
   ]
  },
  {
   "cell_type": "code",
   "execution_count": 19,
   "id": "66c02fc1",
   "metadata": {},
   "outputs": [
    {
     "data": {
      "text/html": [
       "<div>\n",
       "<style scoped>\n",
       "    .dataframe tbody tr th:only-of-type {\n",
       "        vertical-align: middle;\n",
       "    }\n",
       "\n",
       "    .dataframe tbody tr th {\n",
       "        vertical-align: top;\n",
       "    }\n",
       "\n",
       "    .dataframe thead th {\n",
       "        text-align: right;\n",
       "    }\n",
       "</style>\n",
       "<table border=\"1\" class=\"dataframe\">\n",
       "  <thead>\n",
       "    <tr style=\"text-align: right;\">\n",
       "      <th></th>\n",
       "      <th>A</th>\n",
       "      <th>B</th>\n",
       "    </tr>\n",
       "  </thead>\n",
       "  <tbody>\n",
       "    <tr>\n",
       "      <th>0</th>\n",
       "      <td>1</td>\n",
       "      <td>2</td>\n",
       "    </tr>\n",
       "    <tr>\n",
       "      <th>1</th>\n",
       "      <td>4</td>\n",
       "      <td>5</td>\n",
       "    </tr>\n",
       "  </tbody>\n",
       "</table>\n",
       "</div>"
      ],
      "text/plain": [
       "   A  B\n",
       "0  1  2\n",
       "1  4  5"
      ]
     },
     "execution_count": 19,
     "metadata": {},
     "output_type": "execute_result"
    }
   ],
   "source": [
    "df2.iloc[0:2, 0:2]"
   ]
  },
  {
   "cell_type": "markdown",
   "id": "6be915f5",
   "metadata": {},
   "source": [
    "Read a comma-separated values ( CSV ) file data using read_csv()"
   ]
  },
  {
   "cell_type": "code",
   "execution_count": 20,
   "id": "dd1bd538",
   "metadata": {},
   "outputs": [],
   "source": [
    "readcsv = pd.read_csv('dataSample.csv')  # Read dataSample.csv file\n",
    "# print(readcsv)"
   ]
  },
  {
   "cell_type": "code",
   "execution_count": 21,
   "id": "312b4306",
   "metadata": {},
   "outputs": [
    {
     "data": {
      "text/html": [
       "<div>\n",
       "<style scoped>\n",
       "    .dataframe tbody tr th:only-of-type {\n",
       "        vertical-align: middle;\n",
       "    }\n",
       "\n",
       "    .dataframe tbody tr th {\n",
       "        vertical-align: top;\n",
       "    }\n",
       "\n",
       "    .dataframe thead th {\n",
       "        text-align: right;\n",
       "    }\n",
       "</style>\n",
       "<table border=\"1\" class=\"dataframe\">\n",
       "  <thead>\n",
       "    <tr style=\"text-align: right;\">\n",
       "      <th></th>\n",
       "      <th>SYMBOL</th>\n",
       "      <th>SERIES</th>\n",
       "      <th>OPEN</th>\n",
       "      <th>HIGH</th>\n",
       "      <th>LOW</th>\n",
       "      <th>CLOSE</th>\n",
       "      <th>LAST</th>\n",
       "      <th>PREVCLOSE</th>\n",
       "      <th>TOTTRDQTY</th>\n",
       "      <th>TOTTRDVAL</th>\n",
       "      <th>TIMESTAMP</th>\n",
       "      <th>TOTALTRADES</th>\n",
       "      <th>ISIN</th>\n",
       "    </tr>\n",
       "  </thead>\n",
       "  <tbody>\n",
       "    <tr>\n",
       "      <th>0</th>\n",
       "      <td>20MICRONS</td>\n",
       "      <td>EQ</td>\n",
       "      <td>85.50</td>\n",
       "      <td>88.00</td>\n",
       "      <td>83.65</td>\n",
       "      <td>84.10</td>\n",
       "      <td>84.25</td>\n",
       "      <td>83.45</td>\n",
       "      <td>93709</td>\n",
       "      <td>7.952427e+06</td>\n",
       "      <td>20-May-22</td>\n",
       "      <td>2017</td>\n",
       "      <td>INE144J01027</td>\n",
       "    </tr>\n",
       "    <tr>\n",
       "      <th>1</th>\n",
       "      <td>21STCENMGM</td>\n",
       "      <td>EQ</td>\n",
       "      <td>25.95</td>\n",
       "      <td>25.95</td>\n",
       "      <td>25.05</td>\n",
       "      <td>25.80</td>\n",
       "      <td>25.90</td>\n",
       "      <td>25.45</td>\n",
       "      <td>7472</td>\n",
       "      <td>1.928275e+05</td>\n",
       "      <td>20-May-22</td>\n",
       "      <td>133</td>\n",
       "      <td>INE253B01015</td>\n",
       "    </tr>\n",
       "    <tr>\n",
       "      <th>2</th>\n",
       "      <td>3IINFOLTD</td>\n",
       "      <td>EQ</td>\n",
       "      <td>49.40</td>\n",
       "      <td>51.00</td>\n",
       "      <td>49.00</td>\n",
       "      <td>49.65</td>\n",
       "      <td>49.85</td>\n",
       "      <td>48.60</td>\n",
       "      <td>288911</td>\n",
       "      <td>1.435328e+07</td>\n",
       "      <td>20-May-22</td>\n",
       "      <td>3532</td>\n",
       "      <td>INE748C01038</td>\n",
       "    </tr>\n",
       "    <tr>\n",
       "      <th>3</th>\n",
       "      <td>3MINDIA</td>\n",
       "      <td>EQ</td>\n",
       "      <td>18380.00</td>\n",
       "      <td>18380.00</td>\n",
       "      <td>17950.00</td>\n",
       "      <td>17995.95</td>\n",
       "      <td>17965.00</td>\n",
       "      <td>18000.45</td>\n",
       "      <td>1854</td>\n",
       "      <td>3.336630e+07</td>\n",
       "      <td>20-May-22</td>\n",
       "      <td>878</td>\n",
       "      <td>INE470A01017</td>\n",
       "    </tr>\n",
       "    <tr>\n",
       "      <th>4</th>\n",
       "      <td>3PLAND</td>\n",
       "      <td>BE</td>\n",
       "      <td>14.65</td>\n",
       "      <td>14.65</td>\n",
       "      <td>13.65</td>\n",
       "      <td>14.30</td>\n",
       "      <td>14.40</td>\n",
       "      <td>14.10</td>\n",
       "      <td>5232</td>\n",
       "      <td>7.362385e+04</td>\n",
       "      <td>20-May-22</td>\n",
       "      <td>38</td>\n",
       "      <td>INE105C01023</td>\n",
       "    </tr>\n",
       "    <tr>\n",
       "      <th>...</th>\n",
       "      <td>...</td>\n",
       "      <td>...</td>\n",
       "      <td>...</td>\n",
       "      <td>...</td>\n",
       "      <td>...</td>\n",
       "      <td>...</td>\n",
       "      <td>...</td>\n",
       "      <td>...</td>\n",
       "      <td>...</td>\n",
       "      <td>...</td>\n",
       "      <td>...</td>\n",
       "      <td>...</td>\n",
       "      <td>...</td>\n",
       "    </tr>\n",
       "    <tr>\n",
       "      <th>2196</th>\n",
       "      <td>ZOTA</td>\n",
       "      <td>EQ</td>\n",
       "      <td>286.70</td>\n",
       "      <td>292.05</td>\n",
       "      <td>271.25</td>\n",
       "      <td>277.40</td>\n",
       "      <td>276.10</td>\n",
       "      <td>282.85</td>\n",
       "      <td>14059</td>\n",
       "      <td>3.973111e+06</td>\n",
       "      <td>20-May-22</td>\n",
       "      <td>553</td>\n",
       "      <td>INE358U01012</td>\n",
       "    </tr>\n",
       "    <tr>\n",
       "      <th>2197</th>\n",
       "      <td>ZUARI</td>\n",
       "      <td>EQ</td>\n",
       "      <td>161.30</td>\n",
       "      <td>170.00</td>\n",
       "      <td>161.30</td>\n",
       "      <td>165.70</td>\n",
       "      <td>164.10</td>\n",
       "      <td>159.70</td>\n",
       "      <td>185026</td>\n",
       "      <td>3.082189e+07</td>\n",
       "      <td>20-May-22</td>\n",
       "      <td>3719</td>\n",
       "      <td>INE840M01016</td>\n",
       "    </tr>\n",
       "    <tr>\n",
       "      <th>2198</th>\n",
       "      <td>ZUARIGLOB</td>\n",
       "      <td>EQ</td>\n",
       "      <td>159.70</td>\n",
       "      <td>163.40</td>\n",
       "      <td>159.05</td>\n",
       "      <td>162.55</td>\n",
       "      <td>162.25</td>\n",
       "      <td>158.40</td>\n",
       "      <td>62912</td>\n",
       "      <td>1.018014e+07</td>\n",
       "      <td>20-May-22</td>\n",
       "      <td>1325</td>\n",
       "      <td>INE217A01012</td>\n",
       "    </tr>\n",
       "    <tr>\n",
       "      <th>2199</th>\n",
       "      <td>ZYDUSLIFE</td>\n",
       "      <td>EQ</td>\n",
       "      <td>345.30</td>\n",
       "      <td>358.80</td>\n",
       "      <td>339.00</td>\n",
       "      <td>356.85</td>\n",
       "      <td>357.85</td>\n",
       "      <td>338.75</td>\n",
       "      <td>7345887</td>\n",
       "      <td>2.583156e+09</td>\n",
       "      <td>20-May-22</td>\n",
       "      <td>84162</td>\n",
       "      <td>INE010B01027</td>\n",
       "    </tr>\n",
       "    <tr>\n",
       "      <th>2200</th>\n",
       "      <td>ZYDUSWELL</td>\n",
       "      <td>EQ</td>\n",
       "      <td>1591.70</td>\n",
       "      <td>1596.05</td>\n",
       "      <td>1545.95</td>\n",
       "      <td>1548.70</td>\n",
       "      <td>1548.20</td>\n",
       "      <td>1583.90</td>\n",
       "      <td>22602</td>\n",
       "      <td>3.526300e+07</td>\n",
       "      <td>20-May-22</td>\n",
       "      <td>3168</td>\n",
       "      <td>INE768C01010</td>\n",
       "    </tr>\n",
       "  </tbody>\n",
       "</table>\n",
       "<p>2201 rows × 13 columns</p>\n",
       "</div>"
      ],
      "text/plain": [
       "          SYMBOL SERIES      OPEN      HIGH       LOW     CLOSE      LAST  \\\n",
       "0      20MICRONS     EQ     85.50     88.00     83.65     84.10     84.25   \n",
       "1     21STCENMGM     EQ     25.95     25.95     25.05     25.80     25.90   \n",
       "2      3IINFOLTD     EQ     49.40     51.00     49.00     49.65     49.85   \n",
       "3        3MINDIA     EQ  18380.00  18380.00  17950.00  17995.95  17965.00   \n",
       "4         3PLAND     BE     14.65     14.65     13.65     14.30     14.40   \n",
       "...          ...    ...       ...       ...       ...       ...       ...   \n",
       "2196        ZOTA     EQ    286.70    292.05    271.25    277.40    276.10   \n",
       "2197       ZUARI     EQ    161.30    170.00    161.30    165.70    164.10   \n",
       "2198   ZUARIGLOB     EQ    159.70    163.40    159.05    162.55    162.25   \n",
       "2199   ZYDUSLIFE     EQ    345.30    358.80    339.00    356.85    357.85   \n",
       "2200   ZYDUSWELL     EQ   1591.70   1596.05   1545.95   1548.70   1548.20   \n",
       "\n",
       "      PREVCLOSE  TOTTRDQTY     TOTTRDVAL  TIMESTAMP  TOTALTRADES          ISIN  \n",
       "0         83.45      93709  7.952427e+06  20-May-22         2017  INE144J01027  \n",
       "1         25.45       7472  1.928275e+05  20-May-22          133  INE253B01015  \n",
       "2         48.60     288911  1.435328e+07  20-May-22         3532  INE748C01038  \n",
       "3      18000.45       1854  3.336630e+07  20-May-22          878  INE470A01017  \n",
       "4         14.10       5232  7.362385e+04  20-May-22           38  INE105C01023  \n",
       "...         ...        ...           ...        ...          ...           ...  \n",
       "2196     282.85      14059  3.973111e+06  20-May-22          553  INE358U01012  \n",
       "2197     159.70     185026  3.082189e+07  20-May-22         3719  INE840M01016  \n",
       "2198     158.40      62912  1.018014e+07  20-May-22         1325  INE217A01012  \n",
       "2199     338.75    7345887  2.583156e+09  20-May-22        84162  INE010B01027  \n",
       "2200    1583.90      22602  3.526300e+07  20-May-22         3168  INE768C01010  \n",
       "\n",
       "[2201 rows x 13 columns]"
      ]
     },
     "execution_count": 21,
     "metadata": {},
     "output_type": "execute_result"
    }
   ],
   "source": [
    "readcsv"
   ]
  },
  {
   "cell_type": "code",
   "execution_count": 22,
   "id": "e0a7dac1",
   "metadata": {},
   "outputs": [
    {
     "data": {
      "text/html": [
       "<div>\n",
       "<style scoped>\n",
       "    .dataframe tbody tr th:only-of-type {\n",
       "        vertical-align: middle;\n",
       "    }\n",
       "\n",
       "    .dataframe tbody tr th {\n",
       "        vertical-align: top;\n",
       "    }\n",
       "\n",
       "    .dataframe thead th {\n",
       "        text-align: right;\n",
       "    }\n",
       "</style>\n",
       "<table border=\"1\" class=\"dataframe\">\n",
       "  <thead>\n",
       "    <tr style=\"text-align: right;\">\n",
       "      <th></th>\n",
       "      <th>SYMBOL</th>\n",
       "      <th>SERIES</th>\n",
       "      <th>OPEN</th>\n",
       "      <th>HIGH</th>\n",
       "      <th>LOW</th>\n",
       "      <th>CLOSE</th>\n",
       "      <th>LAST</th>\n",
       "      <th>PREVCLOSE</th>\n",
       "      <th>TOTTRDQTY</th>\n",
       "      <th>TOTTRDVAL</th>\n",
       "      <th>TIMESTAMP</th>\n",
       "      <th>TOTALTRADES</th>\n",
       "      <th>ISIN</th>\n",
       "    </tr>\n",
       "  </thead>\n",
       "  <tbody>\n",
       "    <tr>\n",
       "      <th>0</th>\n",
       "      <td>20MICRONS</td>\n",
       "      <td>EQ</td>\n",
       "      <td>85.50</td>\n",
       "      <td>88.00</td>\n",
       "      <td>83.65</td>\n",
       "      <td>84.10</td>\n",
       "      <td>84.25</td>\n",
       "      <td>83.45</td>\n",
       "      <td>93709</td>\n",
       "      <td>7952426.55</td>\n",
       "      <td>20-May-22</td>\n",
       "      <td>2017</td>\n",
       "      <td>INE144J01027</td>\n",
       "    </tr>\n",
       "    <tr>\n",
       "      <th>1</th>\n",
       "      <td>21STCENMGM</td>\n",
       "      <td>EQ</td>\n",
       "      <td>25.95</td>\n",
       "      <td>25.95</td>\n",
       "      <td>25.05</td>\n",
       "      <td>25.80</td>\n",
       "      <td>25.90</td>\n",
       "      <td>25.45</td>\n",
       "      <td>7472</td>\n",
       "      <td>192827.55</td>\n",
       "      <td>20-May-22</td>\n",
       "      <td>133</td>\n",
       "      <td>INE253B01015</td>\n",
       "    </tr>\n",
       "    <tr>\n",
       "      <th>2</th>\n",
       "      <td>3IINFOLTD</td>\n",
       "      <td>EQ</td>\n",
       "      <td>49.40</td>\n",
       "      <td>51.00</td>\n",
       "      <td>49.00</td>\n",
       "      <td>49.65</td>\n",
       "      <td>49.85</td>\n",
       "      <td>48.60</td>\n",
       "      <td>288911</td>\n",
       "      <td>14353277.60</td>\n",
       "      <td>20-May-22</td>\n",
       "      <td>3532</td>\n",
       "      <td>INE748C01038</td>\n",
       "    </tr>\n",
       "    <tr>\n",
       "      <th>3</th>\n",
       "      <td>3MINDIA</td>\n",
       "      <td>EQ</td>\n",
       "      <td>18380.00</td>\n",
       "      <td>18380.00</td>\n",
       "      <td>17950.00</td>\n",
       "      <td>17995.95</td>\n",
       "      <td>17965.00</td>\n",
       "      <td>18000.45</td>\n",
       "      <td>1854</td>\n",
       "      <td>33366304.85</td>\n",
       "      <td>20-May-22</td>\n",
       "      <td>878</td>\n",
       "      <td>INE470A01017</td>\n",
       "    </tr>\n",
       "    <tr>\n",
       "      <th>4</th>\n",
       "      <td>3PLAND</td>\n",
       "      <td>BE</td>\n",
       "      <td>14.65</td>\n",
       "      <td>14.65</td>\n",
       "      <td>13.65</td>\n",
       "      <td>14.30</td>\n",
       "      <td>14.40</td>\n",
       "      <td>14.10</td>\n",
       "      <td>5232</td>\n",
       "      <td>73623.85</td>\n",
       "      <td>20-May-22</td>\n",
       "      <td>38</td>\n",
       "      <td>INE105C01023</td>\n",
       "    </tr>\n",
       "  </tbody>\n",
       "</table>\n",
       "</div>"
      ],
      "text/plain": [
       "       SYMBOL SERIES      OPEN      HIGH       LOW     CLOSE      LAST  \\\n",
       "0   20MICRONS     EQ     85.50     88.00     83.65     84.10     84.25   \n",
       "1  21STCENMGM     EQ     25.95     25.95     25.05     25.80     25.90   \n",
       "2   3IINFOLTD     EQ     49.40     51.00     49.00     49.65     49.85   \n",
       "3     3MINDIA     EQ  18380.00  18380.00  17950.00  17995.95  17965.00   \n",
       "4      3PLAND     BE     14.65     14.65     13.65     14.30     14.40   \n",
       "\n",
       "   PREVCLOSE  TOTTRDQTY    TOTTRDVAL  TIMESTAMP  TOTALTRADES          ISIN  \n",
       "0      83.45      93709   7952426.55  20-May-22         2017  INE144J01027  \n",
       "1      25.45       7472    192827.55  20-May-22          133  INE253B01015  \n",
       "2      48.60     288911  14353277.60  20-May-22         3532  INE748C01038  \n",
       "3   18000.45       1854  33366304.85  20-May-22          878  INE470A01017  \n",
       "4      14.10       5232     73623.85  20-May-22           38  INE105C01023  "
      ]
     },
     "execution_count": 22,
     "metadata": {},
     "output_type": "execute_result"
    }
   ],
   "source": [
    "readcsv.head(5)  # read only top 5 data using head()"
   ]
  },
  {
   "cell_type": "code",
   "execution_count": 23,
   "id": "99e139c0",
   "metadata": {},
   "outputs": [
    {
     "name": "stdout",
     "output_type": "stream",
     "text": [
      "object\n"
     ]
    }
   ],
   "source": [
    "print(readcsv['SYMBOL'].dtype) # data type is object"
   ]
  },
  {
   "cell_type": "code",
   "execution_count": 24,
   "id": "5264304a",
   "metadata": {},
   "outputs": [
    {
     "name": "stdout",
     "output_type": "stream",
     "text": [
      "float64\n"
     ]
    }
   ],
   "source": [
    "print(readcsv['PREVCLOSE'].dtype) #data type is object is float64"
   ]
  },
  {
   "cell_type": "code",
   "execution_count": 25,
   "id": "3dfbfedb",
   "metadata": {},
   "outputs": [
    {
     "name": "stdout",
     "output_type": "stream",
     "text": [
      "0       EQ\n",
      "1       EQ\n",
      "2       EQ\n",
      "3       EQ\n",
      "4       BE\n",
      "        ..\n",
      "2196    EQ\n",
      "2197    EQ\n",
      "2198    EQ\n",
      "2199    EQ\n",
      "2200    EQ\n",
      "Name: SERIES, Length: 2201, dtype: category\n",
      "Categories (54, object): ['BE', 'BL', 'BZ', 'E1', ..., 'YS', 'Z2', 'Z3', 'ZD']\n"
     ]
    }
   ],
   "source": [
    "print(readcsv['SERIES'].astype('category'))  # Change data type using astype(). Here category makes one list and it mapping all the categories"
   ]
  },
  {
   "cell_type": "markdown",
   "id": "e8c3836c",
   "metadata": {},
   "source": [
    "Writing a CSV file"
   ]
  },
  {
   "cell_type": "code",
   "execution_count": 26,
   "id": "9d0e486d",
   "metadata": {},
   "outputs": [
    {
     "data": {
      "text/html": [
       "<div>\n",
       "<style scoped>\n",
       "    .dataframe tbody tr th:only-of-type {\n",
       "        vertical-align: middle;\n",
       "    }\n",
       "\n",
       "    .dataframe tbody tr th {\n",
       "        vertical-align: top;\n",
       "    }\n",
       "\n",
       "    .dataframe thead th {\n",
       "        text-align: right;\n",
       "    }\n",
       "</style>\n",
       "<table border=\"1\" class=\"dataframe\">\n",
       "  <thead>\n",
       "    <tr style=\"text-align: right;\">\n",
       "      <th></th>\n",
       "      <th>A</th>\n",
       "      <th>B</th>\n",
       "      <th>C</th>\n",
       "    </tr>\n",
       "  </thead>\n",
       "  <tbody>\n",
       "    <tr>\n",
       "      <th>0</th>\n",
       "      <td>1</td>\n",
       "      <td>2</td>\n",
       "      <td>3</td>\n",
       "    </tr>\n",
       "    <tr>\n",
       "      <th>1</th>\n",
       "      <td>4</td>\n",
       "      <td>5</td>\n",
       "      <td>6</td>\n",
       "    </tr>\n",
       "    <tr>\n",
       "      <th>2</th>\n",
       "      <td>7</td>\n",
       "      <td>8</td>\n",
       "      <td>9</td>\n",
       "    </tr>\n",
       "    <tr>\n",
       "      <th>3</th>\n",
       "      <td>10</td>\n",
       "      <td>11</td>\n",
       "      <td>12</td>\n",
       "    </tr>\n",
       "    <tr>\n",
       "      <th>4</th>\n",
       "      <td>13</td>\n",
       "      <td>14</td>\n",
       "      <td>15</td>\n",
       "    </tr>\n",
       "  </tbody>\n",
       "</table>\n",
       "</div>"
      ],
      "text/plain": [
       "    A   B   C\n",
       "0   1   2   3\n",
       "1   4   5   6\n",
       "2   7   8   9\n",
       "3  10  11  12\n",
       "4  13  14  15"
      ]
     },
     "execution_count": 26,
     "metadata": {},
     "output_type": "execute_result"
    }
   ],
   "source": [
    "df2 # Convert our date into CSV file using to_csv()"
   ]
  },
  {
   "cell_type": "code",
   "execution_count": 27,
   "id": "09582b2a",
   "metadata": {},
   "outputs": [],
   "source": [
    "df2.to_csv('export.csv', index=False) # Our csv file name is export.csv . Now, you can open this in excel also. Index false means we are not see the index numbers in our data ( it saves our lot's of memory, it is very useful ) "
   ]
  },
  {
   "cell_type": "markdown",
   "id": "5abf38bf",
   "metadata": {},
   "source": [
    "Merging dataframes"
   ]
  },
  {
   "cell_type": "code",
   "execution_count": 28,
   "id": "4503e54a",
   "metadata": {},
   "outputs": [],
   "source": [
    "f1 = pd.DataFrame([[1,2,3], [4,5,6], [7,8,9]], columns=['A', 'B', 'C'])"
   ]
  },
  {
   "cell_type": "code",
   "execution_count": 29,
   "id": "bc27ac99",
   "metadata": {},
   "outputs": [],
   "source": [
    "f2 = pd.DataFrame([[10,11,12], [13,14,15], [16,17,18]], columns=['X', 'Y', 'Z'])"
   ]
  },
  {
   "cell_type": "code",
   "execution_count": 30,
   "id": "9b8e6c74",
   "metadata": {},
   "outputs": [
    {
     "data": {
      "text/html": [
       "<div>\n",
       "<style scoped>\n",
       "    .dataframe tbody tr th:only-of-type {\n",
       "        vertical-align: middle;\n",
       "    }\n",
       "\n",
       "    .dataframe tbody tr th {\n",
       "        vertical-align: top;\n",
       "    }\n",
       "\n",
       "    .dataframe thead th {\n",
       "        text-align: right;\n",
       "    }\n",
       "</style>\n",
       "<table border=\"1\" class=\"dataframe\">\n",
       "  <thead>\n",
       "    <tr style=\"text-align: right;\">\n",
       "      <th></th>\n",
       "      <th>A</th>\n",
       "      <th>B</th>\n",
       "      <th>C</th>\n",
       "    </tr>\n",
       "  </thead>\n",
       "  <tbody>\n",
       "    <tr>\n",
       "      <th>0</th>\n",
       "      <td>1</td>\n",
       "      <td>2</td>\n",
       "      <td>3</td>\n",
       "    </tr>\n",
       "    <tr>\n",
       "      <th>1</th>\n",
       "      <td>4</td>\n",
       "      <td>5</td>\n",
       "      <td>6</td>\n",
       "    </tr>\n",
       "    <tr>\n",
       "      <th>2</th>\n",
       "      <td>7</td>\n",
       "      <td>8</td>\n",
       "      <td>9</td>\n",
       "    </tr>\n",
       "  </tbody>\n",
       "</table>\n",
       "</div>"
      ],
      "text/plain": [
       "   A  B  C\n",
       "0  1  2  3\n",
       "1  4  5  6\n",
       "2  7  8  9"
      ]
     },
     "execution_count": 30,
     "metadata": {},
     "output_type": "execute_result"
    }
   ],
   "source": [
    "f1"
   ]
  },
  {
   "cell_type": "code",
   "execution_count": 31,
   "id": "aca524d0",
   "metadata": {},
   "outputs": [
    {
     "data": {
      "text/html": [
       "<div>\n",
       "<style scoped>\n",
       "    .dataframe tbody tr th:only-of-type {\n",
       "        vertical-align: middle;\n",
       "    }\n",
       "\n",
       "    .dataframe tbody tr th {\n",
       "        vertical-align: top;\n",
       "    }\n",
       "\n",
       "    .dataframe thead th {\n",
       "        text-align: right;\n",
       "    }\n",
       "</style>\n",
       "<table border=\"1\" class=\"dataframe\">\n",
       "  <thead>\n",
       "    <tr style=\"text-align: right;\">\n",
       "      <th></th>\n",
       "      <th>X</th>\n",
       "      <th>Y</th>\n",
       "      <th>Z</th>\n",
       "    </tr>\n",
       "  </thead>\n",
       "  <tbody>\n",
       "    <tr>\n",
       "      <th>0</th>\n",
       "      <td>10</td>\n",
       "      <td>11</td>\n",
       "      <td>12</td>\n",
       "    </tr>\n",
       "    <tr>\n",
       "      <th>1</th>\n",
       "      <td>13</td>\n",
       "      <td>14</td>\n",
       "      <td>15</td>\n",
       "    </tr>\n",
       "    <tr>\n",
       "      <th>2</th>\n",
       "      <td>16</td>\n",
       "      <td>17</td>\n",
       "      <td>18</td>\n",
       "    </tr>\n",
       "  </tbody>\n",
       "</table>\n",
       "</div>"
      ],
      "text/plain": [
       "    X   Y   Z\n",
       "0  10  11  12\n",
       "1  13  14  15\n",
       "2  16  17  18"
      ]
     },
     "execution_count": 31,
     "metadata": {},
     "output_type": "execute_result"
    }
   ],
   "source": [
    "f2"
   ]
  },
  {
   "cell_type": "code",
   "execution_count": 32,
   "id": "61790de3",
   "metadata": {},
   "outputs": [],
   "source": [
    "f1['B'] = f2['Y'].astype(int)  # Just cast the str one into an int and the merge will work."
   ]
  },
  {
   "cell_type": "code",
   "execution_count": 33,
   "id": "e190cf77",
   "metadata": {},
   "outputs": [
    {
     "name": "stdout",
     "output_type": "stream",
     "text": [
      "   A   B  C   X   Y   Z\n",
      "0  1  11  3  10  11  12\n",
      "1  4  14  6  13  14  15\n",
      "2  7  17  9  16  17  18\n"
     ]
    }
   ],
   "source": [
    "mergednow = pd.merge(f1, f2, right_on='Y', left_on='B')\n",
    "print(mergednow)"
   ]
  },
  {
   "cell_type": "code",
   "execution_count": 34,
   "id": "111545d6",
   "metadata": {},
   "outputs": [
    {
     "data": {
      "text/html": [
       "<div>\n",
       "<style scoped>\n",
       "    .dataframe tbody tr th:only-of-type {\n",
       "        vertical-align: middle;\n",
       "    }\n",
       "\n",
       "    .dataframe tbody tr th {\n",
       "        vertical-align: top;\n",
       "    }\n",
       "\n",
       "    .dataframe thead th {\n",
       "        text-align: right;\n",
       "    }\n",
       "</style>\n",
       "<table border=\"1\" class=\"dataframe\">\n",
       "  <thead>\n",
       "    <tr style=\"text-align: right;\">\n",
       "      <th></th>\n",
       "      <th>A</th>\n",
       "      <th>B</th>\n",
       "      <th>C</th>\n",
       "      <th>X</th>\n",
       "      <th>Y</th>\n",
       "      <th>Z</th>\n",
       "    </tr>\n",
       "  </thead>\n",
       "  <tbody>\n",
       "    <tr>\n",
       "      <th>0</th>\n",
       "      <td>1</td>\n",
       "      <td>11</td>\n",
       "      <td>3</td>\n",
       "      <td>10</td>\n",
       "      <td>11</td>\n",
       "      <td>12</td>\n",
       "    </tr>\n",
       "    <tr>\n",
       "      <th>1</th>\n",
       "      <td>4</td>\n",
       "      <td>14</td>\n",
       "      <td>6</td>\n",
       "      <td>13</td>\n",
       "      <td>14</td>\n",
       "      <td>15</td>\n",
       "    </tr>\n",
       "    <tr>\n",
       "      <th>2</th>\n",
       "      <td>7</td>\n",
       "      <td>17</td>\n",
       "      <td>9</td>\n",
       "      <td>16</td>\n",
       "      <td>17</td>\n",
       "      <td>18</td>\n",
       "    </tr>\n",
       "  </tbody>\n",
       "</table>\n",
       "</div>"
      ],
      "text/plain": [
       "   A   B  C   X   Y   Z\n",
       "0  1  11  3  10  11  12\n",
       "1  4  14  6  13  14  15\n",
       "2  7  17  9  16  17  18"
      ]
     },
     "execution_count": 34,
     "metadata": {},
     "output_type": "execute_result"
    }
   ],
   "source": [
    "mergednow"
   ]
  },
  {
   "cell_type": "markdown",
   "id": "90dbbfc7",
   "metadata": {},
   "source": [
    "Let's working with JSON "
   ]
  },
  {
   "cell_type": "code",
   "execution_count": 36,
   "id": "20f8b38f",
   "metadata": {},
   "outputs": [],
   "source": [
    "import json"
   ]
  },
  {
   "cell_type": "code",
   "execution_count": 40,
   "id": "93d6653f",
   "metadata": {},
   "outputs": [],
   "source": [
    "json_data = '{\"a\": 1, \"b\" : 2, \"c\": 3}' # making json object"
   ]
  },
  {
   "cell_type": "code",
   "execution_count": 41,
   "id": "79824db5",
   "metadata": {},
   "outputs": [],
   "source": [
    "x = json.loads(json_data) # loads it"
   ]
  },
  {
   "cell_type": "code",
   "execution_count": 42,
   "id": "baf6362b",
   "metadata": {},
   "outputs": [
    {
     "data": {
      "text/plain": [
       "2"
      ]
     },
     "execution_count": 42,
     "metadata": {},
     "output_type": "execute_result"
    }
   ],
   "source": [
    "x['b']"
   ]
  },
  {
   "cell_type": "code",
   "execution_count": 43,
   "id": "dd3fb7e2",
   "metadata": {},
   "outputs": [
    {
     "data": {
      "text/plain": [
       "1"
      ]
     },
     "execution_count": 43,
     "metadata": {},
     "output_type": "execute_result"
    }
   ],
   "source": [
    "x['a']"
   ]
  },
  {
   "cell_type": "code",
   "execution_count": 44,
   "id": "c087ad1c",
   "metadata": {},
   "outputs": [
    {
     "data": {
      "text/plain": [
       "{'a': 1, 'b': 2, 'c': 3}"
      ]
     },
     "execution_count": 44,
     "metadata": {},
     "output_type": "execute_result"
    }
   ],
   "source": [
    "x"
   ]
  },
  {
   "cell_type": "markdown",
   "id": "2e62bf20",
   "metadata": {},
   "source": [
    "If your json file is in another location, you can also with open function"
   ]
  },
  {
   "cell_type": "markdown",
   "id": "e24fce9e",
   "metadata": {},
   "source": [
    "Let's explore matplotlib module"
   ]
  },
  {
   "cell_type": "code",
   "execution_count": 48,
   "id": "2653088a",
   "metadata": {},
   "outputs": [],
   "source": [
    "# it provides the charts directly in browser\n",
    "%matplotlib inline  \n",
    "\n",
    "from matplotlib import pyplot as plt"
   ]
  },
  {
   "cell_type": "code",
   "execution_count": 49,
   "id": "63e3aef3",
   "metadata": {},
   "outputs": [
    {
     "data": {
      "image/png": "[encoded data removed]",
      "text/plain": [
       "<Figure size 432x288 with 1 Axes>"
      ]
     },
     "metadata": {
      "needs_background": "light"
     },
     "output_type": "display_data"
    }
   ],
   "source": [
    "plt.plot([1,2,3,4,5], [6,7,8,9,10])\n",
    "plt.show()"
   ]
  },
  {
   "cell_type": "code",
   "execution_count": 50,
   "id": "aca76dd2",
   "metadata": {},
   "outputs": [
    {
     "data": {
      "image/png": "[encoded data removed]",
      "text/plain": [
       "<Figure size 432x288 with 1 Axes>"
      ]
     },
     "metadata": {
      "needs_background": "light"
     },
     "output_type": "display_data"
    }
   ],
   "source": [
    "plt.plot([1,2,3,4,5], [6,7,8,9,10])\n",
    "plt.title(\"Linear Graph\") # add title\n",
    "plt.ylabel('Y Label') # add x axis title \n",
    "plt.xlabel('X Label') # add y axis title\n",
    "plt.show()"
   ]
  },
  {
   "cell_type": "code",
   "execution_count": 60,
   "id": "14eed9e2",
   "metadata": {},
   "outputs": [
    {
     "data": {
      "image/png": "[encoded data removed]",
      "text/plain": [
       "<Figure size 432x288 with 1 Axes>"
      ]
     },
     "metadata": {},
     "output_type": "display_data"
    }
   ],
   "source": [
    "from matplotlib import style\n",
    "\n",
    "style.use('ggplot')  # Import new styles. Checkout new styles on documentation\n",
    "x = [17,24,43]\n",
    "y = [43,52,26]\n",
    "x2 = [73,83,92]\n",
    "y2 = [102,111,122]\n",
    "\n",
    "plt.plot(x, y, label='First data', linewidth=4)\n",
    "plt.plot(x2, y2, label='Second data', linewidth=4)\n",
    "plt.legend() # It shows the labels \n",
    "\n",
    "plt.show()"
   ]
  },
  {
   "cell_type": "code",
   "execution_count": 61,
   "id": "df521112",
   "metadata": {},
   "outputs": [
    {
     "data": {
      "image/png": "[encoded data removed]",
      "text/plain": [
       "<Figure size 432x288 with 1 Axes>"
      ]
     },
     "metadata": {},
     "output_type": "display_data"
    }
   ],
   "source": [
    "from matplotlib import style\n",
    "\n",
    "style.use('ggplot')  # Import new styles. Checkout new styles on documentation\n",
    "x = [17,24,43]\n",
    "y = [43,52,26]\n",
    "x2 = [73,83,92]\n",
    "y2 = [102,111,122]\n",
    "\n",
    "plt.scatter(x, y, label='First data', linewidth=4)\n",
    "plt.scatter(x2, y2, label='Second data', linewidth=4)\n",
    "plt.legend() # It shows the labels \n",
    "\n",
    "plt.show()"
   ]
  },
  {
   "cell_type": "markdown",
   "id": "0f83907e",
   "metadata": {},
   "source": [
    "You can also plot histogram graph using ( .hist )"
   ]
  },
  {
   "cell_type": "markdown",
   "id": "7c57ac80",
   "metadata": {},
   "source": [
    "Thank You :)"
   ]
  }
 ],
 "metadata": {
  "kernelspec": {
   "display_name": "Python 3 (ipykernel)",
   "language": "python",
   "name": "python3"
  },
  "language_info": {
   "codemirror_mode": {
    "name": "ipython",
    "version": 3
   },
   "file_extension": ".py",
   "mimetype": "text/x-python",
   "name": "python",
   "nbconvert_exporter": "python",
   "pygments_lexer": "ipython3",
   "version": "3.9.5"
  }
 },
 "nbformat": 4,
 "nbformat_minor": 5
}
